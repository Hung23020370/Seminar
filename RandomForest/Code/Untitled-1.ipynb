{
 "cells": [
  {
   "cell_type": "code",
   "execution_count": 18,
   "metadata": {},
   "outputs": [],
   "source": [
    "import pandas as pd\n",
    "import numpy as np\n",
    "from sklearn.model_selection import GridSearchCV\n",
    "from sklearn.model_selection import train_test_split\n",
    "from imblearn.combine import SMOTETomek\n"
   ]
  },
  {
   "cell_type": "code",
   "execution_count": 15,
   "metadata": {},
   "outputs": [],
   "source": [
    "df = pd.read_csv('E:/Seminar/RandomForest/Data/Data.csv')\n",
    "\n",
    "df['date'] = pd.to_datetime(df['date'])\n",
    "df['rain'] = pd.to_numeric(df['rain'], errors='coerce')\n",
    "\n",
    "\n",
    "df = df.drop(columns=['sun', 'vis','clht','clamt','wdsp','latitude','longitude'])\n",
    "\n",
    "df.dropna(inplace=True)\n",
    "\n",
    "df['day'] = df['date'].dt.day\n",
    "df['month'] = df['date'].dt.month\n",
    "df['year'] = df['date'].dt.year\n",
    "df['hour'] = df['date'].dt.hour\n",
    "\n",
    "conditions = [\n",
    "    (df['rain'] == 0),                  # Không mưa\n",
    "    (df['rain'] > 0) & (df['rain'] <= 0.625),  # Mưa nhỏ\n",
    "    (df['rain'] > 0.625) & (df['rain'] <= 2),  # Mưa vừa\n",
    "    (df['rain'] > 2)                    # Mưa lớn\n",
    "]\n",
    "\n",
    "labels = [0, 1, 2, 3]  # Nhãn: 0 - Không mưa, 1 - Mưa nhỏ, 2 - Mưa vừa, 3 - Mưa lớn\n",
    "df['rain_group'] = np.select(conditions, labels)\n",
    "\n"
   ]
  },
  {
   "cell_type": "code",
   "execution_count": 17,
   "metadata": {},
   "outputs": [],
   "source": [
    "df.to_csv('E:/Seminar/RandomForest/Data/Data_Clean.csv')"
   ]
  },
  {
   "cell_type": "code",
   "execution_count": 17,
   "metadata": {},
   "outputs": [
    {
     "name": "stderr",
     "output_type": "stream",
     "text": [
      "C:\\Users\\Administrator\\AppData\\Local\\Temp\\ipykernel_10844\\3903396108.py:1: DtypeWarning: Columns (5,6,7,8,9,10,11,12,13) have mixed types. Specify dtype option on import or set low_memory=False.\n",
      "  df = pd.read_csv('E:/Seminar/RandomForest/Data/Data.csv')\n"
     ]
    },
    {
     "name": "stdout",
     "output_type": "stream",
     "text": [
      "74710\n"
     ]
    }
   ],
   "source": []
  },
  {
   "cell_type": "code",
   "execution_count": 21,
   "metadata": {},
   "outputs": [
    {
     "name": "stdout",
     "output_type": "stream",
     "text": [
      "3155\n"
     ]
    }
   ],
   "source": []
  },
  {
   "cell_type": "code",
   "execution_count": 38,
   "metadata": {},
   "outputs": [],
   "source": []
  },
  {
   "cell_type": "code",
   "execution_count": 40,
   "metadata": {},
   "outputs": [],
   "source": [
    "df = pd.read_csv('E:/Seminar/RandomForest/Data/WeatherAUS_Clean')"
   ]
  },
  {
   "cell_type": "code",
   "execution_count": 3,
   "metadata": {},
   "outputs": [],
   "source": [
    "def display(param, score, index):\n",
    "    print('Best Param:', param)\n",
    "    print('Best Score:', score)\n",
    "    print('Best Index', index)\n",
    "\n",
    "df = pd.read_csv('E:/Seminar/RandomForest/Data/WeatherAUS_Clean')\n",
    "#Cân bằng dữ liệu huấn luyện\n",
    "def resampling(x_train, y_train):\n",
    "    smote_tomek = SMOTETomek(random_state=0)\n",
    "    x_train, y_train = smote_tomek.fit_resample(x_train, y_train)\n",
    "\n",
    "    return x_train, y_train\n",
    "\n",
    "x = df[['Year', 'Month', 'Day', 'MinTemp', 'MaxTemp', \n",
    "        'Rainfall', 'WindGustSpeed', 'WindSpeed9am', 'WindSpeed3pm', \n",
    "        'Humidity9am', 'Humidity3pm', 'Pressure9am', 'Pressure3pm', \n",
    "        'Temp9am', 'Temp3pm', 'Latitude', 'Longitude']]\n",
    "\n",
    "y = df['rain_group'] \n",
    "\n",
    "x_train, x_test, y_train, y_test = train_test_split(x, y, test_size=0.2, random_state=42)\n",
    "x_train, y_train = resampling(x_train, y_train)\n",
    "print(pd.Series(y_train).value_counts())"
   ]
  }
 ],
 "metadata": {
  "kernelspec": {
   "display_name": "base",
   "language": "python",
   "name": "python3"
  },
  "language_info": {
   "codemirror_mode": {
    "name": "ipython",
    "version": 3
   },
   "file_extension": ".py",
   "mimetype": "text/x-python",
   "name": "python",
   "nbconvert_exporter": "python",
   "pygments_lexer": "ipython3",
   "version": "3.11.7"
  }
 },
 "nbformat": 4,
 "nbformat_minor": 2
}
